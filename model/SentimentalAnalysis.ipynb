{
  "nbformat": 4,
  "nbformat_minor": 0,
  "metadata": {
    "colab": {
      "provenance": []
    },
    "kernelspec": {
      "name": "python3",
      "display_name": "Python 3"
    },
    "language_info": {
      "name": "python"
    }
  },
  "cells": [
    {
      "cell_type": "code",
      "execution_count": null,
      "metadata": {
        "colab": {
          "base_uri": "https://localhost:8080/"
        },
        "id": "kzAjzDNx2wVt",
        "outputId": "792b7be7-f060-4869-d938-8a78dd0fea09"
      },
      "outputs": [
        {
          "output_type": "stream",
          "name": "stdout",
          "text": [
            "Requirement already satisfied: tensorflow in /usr/local/lib/python3.10/dist-packages (2.14.0)\n",
            "Requirement already satisfied: scikit-learn in /usr/local/lib/python3.10/dist-packages (1.2.2)\n",
            "Requirement already satisfied: pandas in /usr/local/lib/python3.10/dist-packages (1.5.3)\n",
            "Requirement already satisfied: numpy in /usr/local/lib/python3.10/dist-packages (1.23.5)\n",
            "Collecting pickle5\n",
            "  Downloading pickle5-0.0.11.tar.gz (132 kB)\n",
            "\u001b[2K     \u001b[90m━━━━━━━━━━━━━━━━━━━━━━━━━━━━━━━━━━━━━━━━\u001b[0m \u001b[32m132.1/132.1 kB\u001b[0m \u001b[31m2.7 MB/s\u001b[0m eta \u001b[36m0:00:00\u001b[0m\n",
            "\u001b[?25h  Preparing metadata (setup.py) ... \u001b[?25l\u001b[?25hdone\n",
            "Requirement already satisfied: absl-py>=1.0.0 in /usr/local/lib/python3.10/dist-packages (from tensorflow) (1.4.0)\n",
            "Requirement already satisfied: astunparse>=1.6.0 in /usr/local/lib/python3.10/dist-packages (from tensorflow) (1.6.3)\n",
            "Requirement already satisfied: flatbuffers>=23.5.26 in /usr/local/lib/python3.10/dist-packages (from tensorflow) (23.5.26)\n",
            "Requirement already satisfied: gast!=0.5.0,!=0.5.1,!=0.5.2,>=0.2.1 in /usr/local/lib/python3.10/dist-packages (from tensorflow) (0.5.4)\n",
            "Requirement already satisfied: google-pasta>=0.1.1 in /usr/local/lib/python3.10/dist-packages (from tensorflow) (0.2.0)\n",
            "Requirement already satisfied: h5py>=2.9.0 in /usr/local/lib/python3.10/dist-packages (from tensorflow) (3.9.0)\n",
            "Requirement already satisfied: libclang>=13.0.0 in /usr/local/lib/python3.10/dist-packages (from tensorflow) (16.0.6)\n",
            "Requirement already satisfied: ml-dtypes==0.2.0 in /usr/local/lib/python3.10/dist-packages (from tensorflow) (0.2.0)\n",
            "Requirement already satisfied: opt-einsum>=2.3.2 in /usr/local/lib/python3.10/dist-packages (from tensorflow) (3.3.0)\n",
            "Requirement already satisfied: packaging in /usr/local/lib/python3.10/dist-packages (from tensorflow) (23.2)\n",
            "Requirement already satisfied: protobuf!=4.21.0,!=4.21.1,!=4.21.2,!=4.21.3,!=4.21.4,!=4.21.5,<5.0.0dev,>=3.20.3 in /usr/local/lib/python3.10/dist-packages (from tensorflow) (3.20.3)\n",
            "Requirement already satisfied: setuptools in /usr/local/lib/python3.10/dist-packages (from tensorflow) (67.7.2)\n",
            "Requirement already satisfied: six>=1.12.0 in /usr/local/lib/python3.10/dist-packages (from tensorflow) (1.16.0)\n",
            "Requirement already satisfied: termcolor>=1.1.0 in /usr/local/lib/python3.10/dist-packages (from tensorflow) (2.3.0)\n",
            "Requirement already satisfied: typing-extensions>=3.6.6 in /usr/local/lib/python3.10/dist-packages (from tensorflow) (4.5.0)\n",
            "Requirement already satisfied: wrapt<1.15,>=1.11.0 in /usr/local/lib/python3.10/dist-packages (from tensorflow) (1.14.1)\n",
            "Requirement already satisfied: tensorflow-io-gcs-filesystem>=0.23.1 in /usr/local/lib/python3.10/dist-packages (from tensorflow) (0.34.0)\n",
            "Requirement already satisfied: grpcio<2.0,>=1.24.3 in /usr/local/lib/python3.10/dist-packages (from tensorflow) (1.59.3)\n",
            "Requirement already satisfied: tensorboard<2.15,>=2.14 in /usr/local/lib/python3.10/dist-packages (from tensorflow) (2.14.1)\n",
            "Requirement already satisfied: tensorflow-estimator<2.15,>=2.14.0 in /usr/local/lib/python3.10/dist-packages (from tensorflow) (2.14.0)\n",
            "Requirement already satisfied: keras<2.15,>=2.14.0 in /usr/local/lib/python3.10/dist-packages (from tensorflow) (2.14.0)\n",
            "Requirement already satisfied: scipy>=1.3.2 in /usr/local/lib/python3.10/dist-packages (from scikit-learn) (1.11.4)\n",
            "Requirement already satisfied: joblib>=1.1.1 in /usr/local/lib/python3.10/dist-packages (from scikit-learn) (1.3.2)\n",
            "Requirement already satisfied: threadpoolctl>=2.0.0 in /usr/local/lib/python3.10/dist-packages (from scikit-learn) (3.2.0)\n",
            "Requirement already satisfied: python-dateutil>=2.8.1 in /usr/local/lib/python3.10/dist-packages (from pandas) (2.8.2)\n",
            "Requirement already satisfied: pytz>=2020.1 in /usr/local/lib/python3.10/dist-packages (from pandas) (2023.3.post1)\n",
            "Requirement already satisfied: wheel<1.0,>=0.23.0 in /usr/local/lib/python3.10/dist-packages (from astunparse>=1.6.0->tensorflow) (0.42.0)\n",
            "Requirement already satisfied: google-auth<3,>=1.6.3 in /usr/local/lib/python3.10/dist-packages (from tensorboard<2.15,>=2.14->tensorflow) (2.17.3)\n",
            "Requirement already satisfied: google-auth-oauthlib<1.1,>=0.5 in /usr/local/lib/python3.10/dist-packages (from tensorboard<2.15,>=2.14->tensorflow) (1.0.0)\n",
            "Requirement already satisfied: markdown>=2.6.8 in /usr/local/lib/python3.10/dist-packages (from tensorboard<2.15,>=2.14->tensorflow) (3.5.1)\n",
            "Requirement already satisfied: requests<3,>=2.21.0 in /usr/local/lib/python3.10/dist-packages (from tensorboard<2.15,>=2.14->tensorflow) (2.31.0)\n",
            "Requirement already satisfied: tensorboard-data-server<0.8.0,>=0.7.0 in /usr/local/lib/python3.10/dist-packages (from tensorboard<2.15,>=2.14->tensorflow) (0.7.2)\n",
            "Requirement already satisfied: werkzeug>=1.0.1 in /usr/local/lib/python3.10/dist-packages (from tensorboard<2.15,>=2.14->tensorflow) (3.0.1)\n",
            "Requirement already satisfied: cachetools<6.0,>=2.0.0 in /usr/local/lib/python3.10/dist-packages (from google-auth<3,>=1.6.3->tensorboard<2.15,>=2.14->tensorflow) (5.3.2)\n",
            "Requirement already satisfied: pyasn1-modules>=0.2.1 in /usr/local/lib/python3.10/dist-packages (from google-auth<3,>=1.6.3->tensorboard<2.15,>=2.14->tensorflow) (0.3.0)\n",
            "Requirement already satisfied: rsa<5,>=3.1.4 in /usr/local/lib/python3.10/dist-packages (from google-auth<3,>=1.6.3->tensorboard<2.15,>=2.14->tensorflow) (4.9)\n",
            "Requirement already satisfied: requests-oauthlib>=0.7.0 in /usr/local/lib/python3.10/dist-packages (from google-auth-oauthlib<1.1,>=0.5->tensorboard<2.15,>=2.14->tensorflow) (1.3.1)\n",
            "Requirement already satisfied: charset-normalizer<4,>=2 in /usr/local/lib/python3.10/dist-packages (from requests<3,>=2.21.0->tensorboard<2.15,>=2.14->tensorflow) (3.3.2)\n",
            "Requirement already satisfied: idna<4,>=2.5 in /usr/local/lib/python3.10/dist-packages (from requests<3,>=2.21.0->tensorboard<2.15,>=2.14->tensorflow) (3.6)\n",
            "Requirement already satisfied: urllib3<3,>=1.21.1 in /usr/local/lib/python3.10/dist-packages (from requests<3,>=2.21.0->tensorboard<2.15,>=2.14->tensorflow) (2.0.7)\n",
            "Requirement already satisfied: certifi>=2017.4.17 in /usr/local/lib/python3.10/dist-packages (from requests<3,>=2.21.0->tensorboard<2.15,>=2.14->tensorflow) (2023.11.17)\n",
            "Requirement already satisfied: MarkupSafe>=2.1.1 in /usr/local/lib/python3.10/dist-packages (from werkzeug>=1.0.1->tensorboard<2.15,>=2.14->tensorflow) (2.1.3)\n",
            "Requirement already satisfied: pyasn1<0.6.0,>=0.4.6 in /usr/local/lib/python3.10/dist-packages (from pyasn1-modules>=0.2.1->google-auth<3,>=1.6.3->tensorboard<2.15,>=2.14->tensorflow) (0.5.1)\n",
            "Requirement already satisfied: oauthlib>=3.0.0 in /usr/local/lib/python3.10/dist-packages (from requests-oauthlib>=0.7.0->google-auth-oauthlib<1.1,>=0.5->tensorboard<2.15,>=2.14->tensorflow) (3.2.2)\n",
            "Building wheels for collected packages: pickle5\n",
            "  Building wheel for pickle5 (setup.py) ... \u001b[?25l\u001b[?25hdone\n",
            "  Created wheel for pickle5: filename=pickle5-0.0.11-cp310-cp310-linux_x86_64.whl size=255317 sha256=da879e3869536e91427f2ba062d1a5a6c34ea848552c85971be1918ce8de0947\n",
            "  Stored in directory: /root/.cache/pip/wheels/7d/14/ef/4aab19d27fa8e58772be5c71c16add0426acf9e1f64353235c\n",
            "Successfully built pickle5\n",
            "Installing collected packages: pickle5\n",
            "Successfully installed pickle5-0.0.11\n"
          ]
        }
      ],
      "source": [
        "pip install tensorflow scikit-learn pandas numpy pickle5"
      ]
    },
    {
      "cell_type": "code",
      "source": [
        "import numpy as np\n",
        "import pandas as pd\n",
        "import tensorflow as tf\n",
        "from sklearn.model_selection import train_test_split\n",
        "from sklearn.metrics import accuracy_score\n",
        "from tensorflow.keras.preprocessing.text import Tokenizer\n",
        "from tensorflow.keras.preprocessing.sequence import pad_sequences\n",
        "from tensorflow.keras.models import Sequential\n",
        "from tensorflow.keras.layers import Embedding, Conv1D, GlobalMaxPooling1D, Dense, Dropout\n",
        "import pickle5 as pickle"
      ],
      "metadata": {
        "id": "veGrdCN23p5u"
      },
      "execution_count": null,
      "outputs": []
    },
    {
      "cell_type": "code",
      "source": [
        "from google.colab import drive\n",
        "drive.mount('/content/drive')"
      ],
      "metadata": {
        "colab": {
          "base_uri": "https://localhost:8080/"
        },
        "id": "57qGsWztwuNM",
        "outputId": "fc571052-c1e3-480e-a8f5-ef50af38dfd6"
      },
      "execution_count": null,
      "outputs": [
        {
          "output_type": "stream",
          "name": "stdout",
          "text": [
            "Mounted at /content/drive\n"
          ]
        }
      ]
    },
    {
      "cell_type": "code",
      "source": [
        "df = pd.read_csv('/content/drive/MyDrive/ColabNotebooks/content/tripadvisor_hotel_reviews.csv', on_bad_lines='skip')\n",
        "print(df.head())"
      ],
      "metadata": {
        "colab": {
          "base_uri": "https://localhost:8080/"
        },
        "id": "7ZfHRaCj25SJ",
        "outputId": "3c9905c7-f473-4bdc-f87f-c5c63fed1dd7"
      },
      "execution_count": null,
      "outputs": [
        {
          "output_type": "stream",
          "name": "stdout",
          "text": [
            "                                              Review  Rating\n",
            "0  nice hotel expensive parking got good deal sta...       4\n",
            "1  ok nothing special charge diamond member hilto...       2\n",
            "2  nice rooms not 4* experience hotel monaco seat...       3\n",
            "3  unique, great stay, wonderful time hotel monac...       5\n",
            "4  great stay great stay, went seahawk game aweso...       5\n"
          ]
        }
      ]
    },
    {
      "cell_type": "markdown",
      "source": [
        "# New Section"
      ],
      "metadata": {
        "id": "7j3iU2oFyfU9"
      }
    },
    {
      "cell_type": "markdown",
      "source": [
        "# New Section"
      ],
      "metadata": {
        "id": "c3cH6Sktyfzc"
      }
    },
    {
      "cell_type": "code",
      "source": [
        "df = df[['Review', 'Rating']]\n",
        "df['sentiment'] = df['Rating'].apply(lambda x: 'positive' if x > 3\n",
        "                                    else 'negative' if x < 3\n",
        "                                    else 'neutral')\n",
        "df = df[['Review', 'sentiment']]\n",
        "df = df.sample(frac=1).reset_index(drop=True)"
      ],
      "metadata": {
        "id": "EtokY0cj4kL1"
      },
      "execution_count": null,
      "outputs": []
    },
    {
      "cell_type": "code",
      "source": [
        "tokenizer = Tokenizer(num_words=5000, oov_token='<OOV>')\n",
        "tokenizer.fit_on_texts(df['Review'])\n",
        "word_index = tokenizer.word_index\n",
        "sequences = tokenizer.texts_to_sequences(df['Review'])\n",
        "padded_sequences = pad_sequences(sequences, maxlen=100, truncating='post')"
      ],
      "metadata": {
        "id": "u8vCGR2O4mhv"
      },
      "execution_count": null,
      "outputs": []
    },
    {
      "cell_type": "code",
      "source": [
        "sentiment_labels = pd.get_dummies(df['sentiment']).values"
      ],
      "metadata": {
        "id": "3cvJXu_X4oyz"
      },
      "execution_count": null,
      "outputs": []
    },
    {
      "cell_type": "code",
      "source": [
        "x_train, x_test, y_train, y_test = train_test_split(padded_sequences, sentiment_labels, test_size=0.2)"
      ],
      "metadata": {
        "id": "HgJKHRE_4q2I"
      },
      "execution_count": null,
      "outputs": []
    },
    {
      "cell_type": "code",
      "source": [
        "model = Sequential()\n",
        "model.add(Embedding(5000, 100, input_length=100))\n",
        "model.add(Conv1D(64, 5, activation='relu'))\n",
        "model.add(GlobalMaxPooling1D())\n",
        "model.add(Dense(32, activation='relu'))\n",
        "model.add(Dropout(0.5))\n",
        "model.add(Dense(3, activation='softmax'))\n",
        "model.compile(optimizer='adam', loss='categorical_crossentropy', metrics=['accuracy'])\n",
        "model.summary()"
      ],
      "metadata": {
        "id": "UtU865Bj4sx9",
        "colab": {
          "base_uri": "https://localhost:8080/"
        },
        "outputId": "e81f3c13-c7e5-4f12-e736-6eb6348e3444"
      },
      "execution_count": null,
      "outputs": [
        {
          "output_type": "stream",
          "name": "stdout",
          "text": [
            "Model: \"sequential\"\n",
            "_________________________________________________________________\n",
            " Layer (type)                Output Shape              Param #   \n",
            "=================================================================\n",
            " embedding (Embedding)       (None, 100, 100)          500000    \n",
            "                                                                 \n",
            " conv1d (Conv1D)             (None, 96, 64)            32064     \n",
            "                                                                 \n",
            " global_max_pooling1d (Glob  (None, 64)                0         \n",
            " alMaxPooling1D)                                                 \n",
            "                                                                 \n",
            " dense (Dense)               (None, 32)                2080      \n",
            "                                                                 \n",
            " dropout (Dropout)           (None, 32)                0         \n",
            "                                                                 \n",
            " dense_1 (Dense)             (None, 3)                 99        \n",
            "                                                                 \n",
            "=================================================================\n",
            "Total params: 534243 (2.04 MB)\n",
            "Trainable params: 534243 (2.04 MB)\n",
            "Non-trainable params: 0 (0.00 Byte)\n",
            "_________________________________________________________________\n"
          ]
        }
      ]
    },
    {
      "cell_type": "code",
      "source": [],
      "metadata": {
        "id": "hJLXV1RXxq3L"
      },
      "execution_count": null,
      "outputs": []
    },
    {
      "cell_type": "code",
      "source": [
        "model.fit(x_train, y_train, epochs=100, batch_size=32, validation_data=(x_test, y_test))"
      ],
      "metadata": {
        "id": "OdBhzuoB4vCk",
        "colab": {
          "base_uri": "https://localhost:8080/"
        },
        "outputId": "226f243d-e5a6-4310-b53f-50e1b1533eb0"
      },
      "execution_count": null,
      "outputs": [
        {
          "output_type": "stream",
          "name": "stdout",
          "text": [
            "Epoch 1/100\n",
            "513/513 [==============================] - 18s 32ms/step - loss: 0.5968 - accuracy: 0.7815 - val_loss: 0.4425 - val_accuracy: 0.8241\n",
            "Epoch 2/100\n",
            "513/513 [==============================] - 16s 32ms/step - loss: 0.3858 - accuracy: 0.8574 - val_loss: 0.4061 - val_accuracy: 0.8431\n",
            "Epoch 3/100\n",
            "513/513 [==============================] - 16s 31ms/step - loss: 0.2696 - accuracy: 0.8982 - val_loss: 0.4248 - val_accuracy: 0.8402\n",
            "Epoch 4/100\n",
            "513/513 [==============================] - 16s 32ms/step - loss: 0.1827 - accuracy: 0.9327 - val_loss: 0.5157 - val_accuracy: 0.8258\n",
            "Epoch 5/100\n",
            "513/513 [==============================] - 16s 32ms/step - loss: 0.1102 - accuracy: 0.9632 - val_loss: 0.5853 - val_accuracy: 0.8385\n",
            "Epoch 6/100\n",
            "513/513 [==============================] - 16s 30ms/step - loss: 0.0666 - accuracy: 0.9790 - val_loss: 0.7640 - val_accuracy: 0.8336\n",
            "Epoch 7/100\n",
            "513/513 [==============================] - 16s 31ms/step - loss: 0.0431 - accuracy: 0.9871 - val_loss: 0.8056 - val_accuracy: 0.8361\n",
            "Epoch 8/100\n",
            "513/513 [==============================] - 16s 31ms/step - loss: 0.0291 - accuracy: 0.9907 - val_loss: 0.9362 - val_accuracy: 0.8375\n",
            "Epoch 9/100\n",
            "513/513 [==============================] - 15s 29ms/step - loss: 0.0197 - accuracy: 0.9930 - val_loss: 1.0830 - val_accuracy: 0.8268\n",
            "Epoch 10/100\n",
            "513/513 [==============================] - 15s 29ms/step - loss: 0.0190 - accuracy: 0.9937 - val_loss: 1.2101 - val_accuracy: 0.8346\n",
            "Epoch 11/100\n",
            "513/513 [==============================] - 15s 29ms/step - loss: 0.0191 - accuracy: 0.9936 - val_loss: 1.2365 - val_accuracy: 0.8387\n",
            "Epoch 12/100\n",
            "513/513 [==============================] - 16s 31ms/step - loss: 0.0228 - accuracy: 0.9926 - val_loss: 1.2416 - val_accuracy: 0.8409\n",
            "Epoch 13/100\n",
            "513/513 [==============================] - 16s 30ms/step - loss: 0.0193 - accuracy: 0.9932 - val_loss: 1.2678 - val_accuracy: 0.8290\n",
            "Epoch 14/100\n",
            "513/513 [==============================] - 16s 32ms/step - loss: 0.0145 - accuracy: 0.9953 - val_loss: 1.4071 - val_accuracy: 0.8309\n",
            "Epoch 15/100\n",
            "513/513 [==============================] - 16s 32ms/step - loss: 0.0159 - accuracy: 0.9946 - val_loss: 1.5270 - val_accuracy: 0.8263\n",
            "Epoch 16/100\n",
            "513/513 [==============================] - 16s 32ms/step - loss: 0.0179 - accuracy: 0.9937 - val_loss: 1.4317 - val_accuracy: 0.8192\n",
            "Epoch 17/100\n",
            "513/513 [==============================] - 16s 30ms/step - loss: 0.0173 - accuracy: 0.9939 - val_loss: 1.5226 - val_accuracy: 0.8390\n",
            "Epoch 18/100\n",
            "513/513 [==============================] - 16s 31ms/step - loss: 0.0196 - accuracy: 0.9931 - val_loss: 1.6584 - val_accuracy: 0.8390\n",
            "Epoch 19/100\n",
            "513/513 [==============================] - 16s 30ms/step - loss: 0.0147 - accuracy: 0.9946 - val_loss: 1.7528 - val_accuracy: 0.8392\n",
            "Epoch 20/100\n",
            "513/513 [==============================] - 16s 31ms/step - loss: 0.0128 - accuracy: 0.9956 - val_loss: 1.9723 - val_accuracy: 0.8322\n",
            "Epoch 21/100\n",
            "513/513 [==============================] - 16s 31ms/step - loss: 0.0127 - accuracy: 0.9946 - val_loss: 1.9950 - val_accuracy: 0.8307\n",
            "Epoch 22/100\n",
            "513/513 [==============================] - 15s 29ms/step - loss: 0.0119 - accuracy: 0.9954 - val_loss: 1.7741 - val_accuracy: 0.8290\n",
            "Epoch 23/100\n",
            "513/513 [==============================] - 15s 30ms/step - loss: 0.0149 - accuracy: 0.9946 - val_loss: 2.0440 - val_accuracy: 0.8295\n",
            "Epoch 24/100\n",
            "513/513 [==============================] - 15s 30ms/step - loss: 0.0136 - accuracy: 0.9952 - val_loss: 1.8907 - val_accuracy: 0.8326\n",
            "Epoch 25/100\n",
            "513/513 [==============================] - 15s 30ms/step - loss: 0.0161 - accuracy: 0.9935 - val_loss: 1.8122 - val_accuracy: 0.8341\n",
            "Epoch 26/100\n",
            "513/513 [==============================] - 16s 31ms/step - loss: 0.0134 - accuracy: 0.9943 - val_loss: 2.0196 - val_accuracy: 0.8370\n",
            "Epoch 27/100\n",
            "513/513 [==============================] - 16s 32ms/step - loss: 0.0103 - accuracy: 0.9959 - val_loss: 2.3410 - val_accuracy: 0.8368\n",
            "Epoch 28/100\n",
            "513/513 [==============================] - 16s 31ms/step - loss: 0.0118 - accuracy: 0.9960 - val_loss: 2.2221 - val_accuracy: 0.8292\n",
            "Epoch 29/100\n",
            "513/513 [==============================] - 17s 32ms/step - loss: 0.0119 - accuracy: 0.9957 - val_loss: 2.1131 - val_accuracy: 0.8290\n",
            "Epoch 30/100\n",
            "513/513 [==============================] - 16s 32ms/step - loss: 0.0111 - accuracy: 0.9960 - val_loss: 2.3479 - val_accuracy: 0.8404\n",
            "Epoch 31/100\n",
            "513/513 [==============================] - 17s 32ms/step - loss: 0.0113 - accuracy: 0.9955 - val_loss: 2.4902 - val_accuracy: 0.8378\n",
            "Epoch 32/100\n",
            "513/513 [==============================] - 16s 32ms/step - loss: 0.0110 - accuracy: 0.9958 - val_loss: 2.4190 - val_accuracy: 0.8353\n",
            "Epoch 33/100\n",
            "513/513 [==============================] - 16s 31ms/step - loss: 0.0183 - accuracy: 0.9938 - val_loss: 2.2315 - val_accuracy: 0.8341\n",
            "Epoch 34/100\n",
            "513/513 [==============================] - 16s 32ms/step - loss: 0.0137 - accuracy: 0.9945 - val_loss: 2.1488 - val_accuracy: 0.8341\n",
            "Epoch 35/100\n",
            "513/513 [==============================] - 20s 39ms/step - loss: 0.0076 - accuracy: 0.9971 - val_loss: 2.6922 - val_accuracy: 0.8356\n",
            "Epoch 36/100\n",
            "513/513 [==============================] - 17s 32ms/step - loss: 0.0081 - accuracy: 0.9959 - val_loss: 2.5663 - val_accuracy: 0.8319\n",
            "Epoch 37/100\n",
            "513/513 [==============================] - 16s 32ms/step - loss: 0.0144 - accuracy: 0.9949 - val_loss: 2.4726 - val_accuracy: 0.8248\n",
            "Epoch 38/100\n",
            "513/513 [==============================] - 16s 31ms/step - loss: 0.0118 - accuracy: 0.9951 - val_loss: 2.6717 - val_accuracy: 0.8297\n",
            "Epoch 39/100\n",
            "513/513 [==============================] - 16s 31ms/step - loss: 0.0123 - accuracy: 0.9959 - val_loss: 2.6092 - val_accuracy: 0.8297\n",
            "Epoch 40/100\n",
            "513/513 [==============================] - 16s 32ms/step - loss: 0.0084 - accuracy: 0.9965 - val_loss: 3.0756 - val_accuracy: 0.8368\n",
            "Epoch 41/100\n",
            "513/513 [==============================] - 16s 31ms/step - loss: 0.0086 - accuracy: 0.9962 - val_loss: 2.5396 - val_accuracy: 0.8256\n",
            "Epoch 42/100\n",
            "513/513 [==============================] - 16s 30ms/step - loss: 0.0125 - accuracy: 0.9959 - val_loss: 3.3792 - val_accuracy: 0.8365\n",
            "Epoch 43/100\n",
            "513/513 [==============================] - 15s 30ms/step - loss: 0.0167 - accuracy: 0.9948 - val_loss: 2.5074 - val_accuracy: 0.8324\n",
            "Epoch 44/100\n",
            "513/513 [==============================] - 15s 30ms/step - loss: 0.0134 - accuracy: 0.9954 - val_loss: 2.6580 - val_accuracy: 0.8343\n",
            "Epoch 45/100\n",
            "513/513 [==============================] - 15s 30ms/step - loss: 0.0108 - accuracy: 0.9962 - val_loss: 2.8369 - val_accuracy: 0.8263\n",
            "Epoch 46/100\n",
            "513/513 [==============================] - 16s 31ms/step - loss: 0.0114 - accuracy: 0.9965 - val_loss: 2.7646 - val_accuracy: 0.8280\n",
            "Epoch 47/100\n",
            "513/513 [==============================] - 16s 32ms/step - loss: 0.0073 - accuracy: 0.9973 - val_loss: 3.1337 - val_accuracy: 0.8404\n",
            "Epoch 48/100\n",
            "513/513 [==============================] - 16s 31ms/step - loss: 0.0120 - accuracy: 0.9963 - val_loss: 2.6812 - val_accuracy: 0.8322\n",
            "Epoch 49/100\n",
            "513/513 [==============================] - 16s 32ms/step - loss: 0.0106 - accuracy: 0.9959 - val_loss: 3.0869 - val_accuracy: 0.8356\n",
            "Epoch 50/100\n",
            "513/513 [==============================] - 16s 31ms/step - loss: 0.0073 - accuracy: 0.9968 - val_loss: 3.6257 - val_accuracy: 0.8375\n",
            "Epoch 51/100\n",
            "513/513 [==============================] - 16s 31ms/step - loss: 0.0110 - accuracy: 0.9963 - val_loss: 3.0895 - val_accuracy: 0.8217\n",
            "Epoch 52/100\n",
            "513/513 [==============================] - 16s 32ms/step - loss: 0.0066 - accuracy: 0.9971 - val_loss: 3.4123 - val_accuracy: 0.8351\n",
            "Epoch 53/100\n",
            "513/513 [==============================] - 16s 31ms/step - loss: 0.0084 - accuracy: 0.9964 - val_loss: 3.2343 - val_accuracy: 0.8295\n",
            "Epoch 54/100\n",
            "513/513 [==============================] - 16s 32ms/step - loss: 0.0087 - accuracy: 0.9968 - val_loss: 3.0046 - val_accuracy: 0.8239\n",
            "Epoch 55/100\n",
            "513/513 [==============================] - 16s 31ms/step - loss: 0.0096 - accuracy: 0.9964 - val_loss: 3.2301 - val_accuracy: 0.8256\n",
            "Epoch 56/100\n",
            "513/513 [==============================] - 16s 31ms/step - loss: 0.0078 - accuracy: 0.9966 - val_loss: 3.1632 - val_accuracy: 0.8370\n",
            "Epoch 57/100\n",
            "513/513 [==============================] - 16s 31ms/step - loss: 0.0123 - accuracy: 0.9959 - val_loss: 3.2581 - val_accuracy: 0.8285\n",
            "Epoch 58/100\n",
            "513/513 [==============================] - 15s 30ms/step - loss: 0.0061 - accuracy: 0.9976 - val_loss: 3.4558 - val_accuracy: 0.8365\n",
            "Epoch 59/100\n",
            "513/513 [==============================] - 15s 30ms/step - loss: 0.0057 - accuracy: 0.9979 - val_loss: 2.9429 - val_accuracy: 0.8192\n",
            "Epoch 60/100\n",
            "513/513 [==============================] - 15s 30ms/step - loss: 0.0051 - accuracy: 0.9977 - val_loss: 3.7383 - val_accuracy: 0.8339\n",
            "Epoch 61/100\n",
            "513/513 [==============================] - 15s 30ms/step - loss: 0.0124 - accuracy: 0.9967 - val_loss: 3.0956 - val_accuracy: 0.8248\n",
            "Epoch 62/100\n",
            "513/513 [==============================] - 16s 31ms/step - loss: 0.0086 - accuracy: 0.9968 - val_loss: 3.6488 - val_accuracy: 0.8343\n",
            "Epoch 63/100\n",
            "513/513 [==============================] - 16s 32ms/step - loss: 0.0056 - accuracy: 0.9976 - val_loss: 3.5051 - val_accuracy: 0.8348\n",
            "Epoch 64/100\n",
            "513/513 [==============================] - 16s 32ms/step - loss: 0.0064 - accuracy: 0.9972 - val_loss: 3.8932 - val_accuracy: 0.8297\n",
            "Epoch 65/100\n",
            "513/513 [==============================] - 16s 32ms/step - loss: 0.0087 - accuracy: 0.9971 - val_loss: 3.3753 - val_accuracy: 0.8314\n",
            "Epoch 66/100\n",
            "513/513 [==============================] - 16s 32ms/step - loss: 0.0059 - accuracy: 0.9974 - val_loss: 3.5339 - val_accuracy: 0.8361\n",
            "Epoch 67/100\n",
            "513/513 [==============================] - 14s 28ms/step - loss: 0.0067 - accuracy: 0.9976 - val_loss: 3.8672 - val_accuracy: 0.8385\n",
            "Epoch 68/100\n",
            "513/513 [==============================] - 15s 30ms/step - loss: 0.0076 - accuracy: 0.9974 - val_loss: 3.3659 - val_accuracy: 0.8275\n",
            "Epoch 69/100\n",
            "513/513 [==============================] - 14s 28ms/step - loss: 0.0073 - accuracy: 0.9971 - val_loss: 3.9002 - val_accuracy: 0.8363\n",
            "Epoch 70/100\n",
            "513/513 [==============================] - 13s 26ms/step - loss: 0.0051 - accuracy: 0.9981 - val_loss: 4.0847 - val_accuracy: 0.8322\n",
            "Epoch 71/100\n",
            "513/513 [==============================] - 14s 28ms/step - loss: 0.0106 - accuracy: 0.9965 - val_loss: 3.3481 - val_accuracy: 0.8365\n",
            "Epoch 72/100\n",
            "513/513 [==============================] - 15s 28ms/step - loss: 0.0068 - accuracy: 0.9973 - val_loss: 3.7221 - val_accuracy: 0.8302\n",
            "Epoch 73/100\n",
            "513/513 [==============================] - 14s 28ms/step - loss: 0.0032 - accuracy: 0.9990 - val_loss: 4.0209 - val_accuracy: 0.8319\n",
            "Epoch 74/100\n",
            "513/513 [==============================] - 15s 29ms/step - loss: 0.0057 - accuracy: 0.9979 - val_loss: 3.5984 - val_accuracy: 0.8324\n",
            "Epoch 75/100\n",
            "513/513 [==============================] - 14s 27ms/step - loss: 0.0055 - accuracy: 0.9979 - val_loss: 4.3027 - val_accuracy: 0.8295\n",
            "Epoch 76/100\n",
            "513/513 [==============================] - 13s 25ms/step - loss: 0.0076 - accuracy: 0.9971 - val_loss: 4.0184 - val_accuracy: 0.8214\n",
            "Epoch 77/100\n",
            "513/513 [==============================] - 15s 28ms/step - loss: 0.0069 - accuracy: 0.9973 - val_loss: 4.1985 - val_accuracy: 0.8231\n",
            "Epoch 78/100\n",
            "513/513 [==============================] - 15s 29ms/step - loss: 0.0060 - accuracy: 0.9979 - val_loss: 4.6134 - val_accuracy: 0.8307\n",
            "Epoch 79/100\n",
            "513/513 [==============================] - 15s 29ms/step - loss: 0.0098 - accuracy: 0.9972 - val_loss: 3.9562 - val_accuracy: 0.8261\n",
            "Epoch 80/100\n",
            "513/513 [==============================] - 15s 29ms/step - loss: 0.0095 - accuracy: 0.9963 - val_loss: 4.1855 - val_accuracy: 0.8341\n",
            "Epoch 81/100\n",
            "513/513 [==============================] - 14s 28ms/step - loss: 0.0103 - accuracy: 0.9967 - val_loss: 3.8717 - val_accuracy: 0.8261\n",
            "Epoch 82/100\n",
            "513/513 [==============================] - 13s 25ms/step - loss: 0.0033 - accuracy: 0.9985 - val_loss: 4.3963 - val_accuracy: 0.8307\n",
            "Epoch 83/100\n",
            "513/513 [==============================] - 14s 28ms/step - loss: 0.0042 - accuracy: 0.9983 - val_loss: 4.8492 - val_accuracy: 0.8295\n",
            "Epoch 84/100\n",
            "513/513 [==============================] - 14s 28ms/step - loss: 0.0081 - accuracy: 0.9976 - val_loss: 4.1514 - val_accuracy: 0.8341\n",
            "Epoch 85/100\n",
            "513/513 [==============================] - 15s 30ms/step - loss: 0.0064 - accuracy: 0.9976 - val_loss: 4.1516 - val_accuracy: 0.8163\n",
            "Epoch 86/100\n",
            "513/513 [==============================] - 15s 28ms/step - loss: 0.0076 - accuracy: 0.9976 - val_loss: 4.1012 - val_accuracy: 0.8263\n",
            "Epoch 87/100\n",
            "513/513 [==============================] - 14s 27ms/step - loss: 0.0071 - accuracy: 0.9976 - val_loss: 4.1932 - val_accuracy: 0.8329\n",
            "Epoch 88/100\n",
            "513/513 [==============================] - 13s 25ms/step - loss: 0.0073 - accuracy: 0.9972 - val_loss: 4.3553 - val_accuracy: 0.8222\n",
            "Epoch 89/100\n",
            "513/513 [==============================] - 14s 28ms/step - loss: 0.0094 - accuracy: 0.9972 - val_loss: 4.5539 - val_accuracy: 0.8334\n",
            "Epoch 90/100\n",
            "513/513 [==============================] - 15s 30ms/step - loss: 0.0057 - accuracy: 0.9979 - val_loss: 4.0314 - val_accuracy: 0.8314\n",
            "Epoch 91/100\n",
            "513/513 [==============================] - 15s 28ms/step - loss: 0.0048 - accuracy: 0.9980 - val_loss: 4.5469 - val_accuracy: 0.8353\n",
            "Epoch 92/100\n",
            "513/513 [==============================] - 15s 30ms/step - loss: 0.0060 - accuracy: 0.9973 - val_loss: 4.6157 - val_accuracy: 0.8404\n",
            "Epoch 93/100\n",
            "513/513 [==============================] - 15s 28ms/step - loss: 0.0057 - accuracy: 0.9979 - val_loss: 4.3851 - val_accuracy: 0.8283\n",
            "Epoch 94/100\n",
            "513/513 [==============================] - 13s 26ms/step - loss: 0.0027 - accuracy: 0.9990 - val_loss: 4.8379 - val_accuracy: 0.8317\n",
            "Epoch 95/100\n",
            "513/513 [==============================] - 14s 27ms/step - loss: 0.0032 - accuracy: 0.9987 - val_loss: 5.0231 - val_accuracy: 0.8280\n",
            "Epoch 96/100\n",
            "513/513 [==============================] - 15s 29ms/step - loss: 0.0214 - accuracy: 0.9948 - val_loss: 3.9877 - val_accuracy: 0.8256\n",
            "Epoch 97/100\n",
            "513/513 [==============================] - 15s 29ms/step - loss: 0.0050 - accuracy: 0.9977 - val_loss: 4.4606 - val_accuracy: 0.8275\n",
            "Epoch 98/100\n",
            "513/513 [==============================] - 16s 30ms/step - loss: 0.0041 - accuracy: 0.9979 - val_loss: 5.2578 - val_accuracy: 0.8234\n",
            "Epoch 99/100\n",
            "513/513 [==============================] - 15s 29ms/step - loss: 0.0050 - accuracy: 0.9978 - val_loss: 5.0702 - val_accuracy: 0.8163\n",
            "Epoch 100/100\n",
            "513/513 [==============================] - 14s 26ms/step - loss: 0.0100 - accuracy: 0.9973 - val_loss: 4.7980 - val_accuracy: 0.8324\n"
          ]
        },
        {
          "output_type": "execute_result",
          "data": {
            "text/plain": [
              "<keras.src.callbacks.History at 0x7e458357bee0>"
            ]
          },
          "metadata": {},
          "execution_count": 17
        }
      ]
    },
    {
      "cell_type": "code",
      "source": [
        "y_pred = np.argmax(model.predict(x_test), axis=-1)\n",
        "print(\"Accuracy:\", accuracy_score(np.argmax(y_test, axis=-1), y_pred))"
      ],
      "metadata": {
        "id": "zITCuQ1Y54TH",
        "colab": {
          "base_uri": "https://localhost:8080/"
        },
        "outputId": "5510cd74-6d74-45e9-e690-5e41d7b3e653"
      },
      "execution_count": null,
      "outputs": [
        {
          "output_type": "stream",
          "name": "stdout",
          "text": [
            "129/129 [==============================] - 1s 7ms/step\n",
            "Accuracy: 0.8323981458892413\n"
          ]
        }
      ]
    },
    {
      "cell_type": "code",
      "source": [
        "model.save('sentiment_analysis_model.h5')\n",
        "with open('tokenizer.pickle', 'wb') as handle:\n",
        "    pickle.dump(tokenizer, handle, protocol=pickle.HIGHEST_PROTOCOL)"
      ],
      "metadata": {
        "id": "ssG19JSw59gd",
        "colab": {
          "base_uri": "https://localhost:8080/"
        },
        "outputId": "7ad76032-88be-489b-dc8c-7cf952a5d11e"
      },
      "execution_count": null,
      "outputs": [
        {
          "output_type": "stream",
          "name": "stderr",
          "text": [
            "/usr/local/lib/python3.10/dist-packages/keras/src/engine/training.py:3079: UserWarning: You are saving your model as an HDF5 file via `model.save()`. This file format is considered legacy. We recommend using instead the native Keras format, e.g. `model.save('my_model.keras')`.\n",
            "  saving_api.save_model(\n"
          ]
        }
      ]
    },
    {
      "cell_type": "code",
      "source": [
        "# Load the saved model and tokenizer\n",
        "import keras\n",
        "\n",
        "model = keras.models.load_model('sentiment_analysis_model.h5')\n",
        "with open('tokenizer.pickle', 'rb') as handle:\n",
        "    tokenizer = pickle.load(handle)"
      ],
      "metadata": {
        "id": "5NBdbTjV6Aur"
      },
      "execution_count": null,
      "outputs": []
    },
    {
      "cell_type": "code",
      "source": [
        "def predict_sentiment(text):\n",
        "    # Tokenize and pad the input text\n",
        "    text_sequence = tokenizer.texts_to_sequences([text])\n",
        "    text_sequence = pad_sequences(text_sequence, maxlen=100)\n",
        "\n",
        "    # Make a prediction using the trained model\n",
        "    predicted_rating = model.predict(text_sequence)[0]\n",
        "    if np.argmax(predicted_rating) == 0:\n",
        "        return 'Negative'\n",
        "    elif np.argmax(predicted_rating) == 1:\n",
        "        return 'Neutral'\n",
        "    else:\n",
        "        return 'Positive'"
      ],
      "metadata": {
        "id": "BO3_KwVG6DxH"
      },
      "execution_count": null,
      "outputs": []
    },
    {
      "cell_type": "code",
      "source": [
        "text_input = \"henry\"\n",
        "predicted_sentiment = predict_sentiment(text_input)\n",
        "print(predicted_sentiment)"
      ],
      "metadata": {
        "id": "bOjCh2ho6EnY",
        "colab": {
          "base_uri": "https://localhost:8080/"
        },
        "outputId": "e1db24de-6bef-44ab-d232-0f01148567bf"
      },
      "execution_count": null,
      "outputs": [
        {
          "output_type": "stream",
          "name": "stdout",
          "text": [
            "1/1 [==============================] - 0s 39ms/step\n",
            "Negative\n"
          ]
        }
      ]
    },
    {
      "cell_type": "code",
      "source": [],
      "metadata": {
        "id": "Lvi1rkCd7_U2"
      },
      "execution_count": null,
      "outputs": []
    }
  ]
}